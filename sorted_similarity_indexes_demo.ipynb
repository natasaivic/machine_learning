{
  "nbformat": 4,
  "nbformat_minor": 0,
  "metadata": {
    "colab": {
      "name": "sorted_similarity_indexes_demo.ipynb",
      "provenance": [],
      "collapsed_sections": [],
      "authorship_tag": "ABX9TyMto04TQ4IJbwQ7FTDB271l",
      "include_colab_link": true
    },
    "kernelspec": {
      "name": "python3",
      "display_name": "Python 3"
    },
    "language_info": {
      "name": "python"
    }
  },
  "cells": [
    {
      "cell_type": "markdown",
      "metadata": {
        "id": "view-in-github",
        "colab_type": "text"
      },
      "source": [
        "<a href=\"https://colab.research.google.com/github/natasaivic/ml/blob/main/sorted_similarity_indexes_demo.ipynb\" target=\"_parent\"><img src=\"https://colab.research.google.com/assets/colab-badge.svg\" alt=\"Open In Colab\"/></a>"
      ]
    },
    {
      "cell_type": "code",
      "source": [
        "import pandas as pd\n",
        "import numpy as np\n",
        "\n",
        "from sklearn.metrics.pairwise import cosine_similarity"
      ],
      "metadata": {
        "id": "tOk9dMSSK38z"
      },
      "execution_count": 42,
      "outputs": []
    },
    {
      "cell_type": "code",
      "execution_count": 43,
      "metadata": {
        "colab": {
          "base_uri": "https://localhost:8080/"
        },
        "id": "UTS3tgzEKlls",
        "outputId": "54ece6de-c8c7-45e3-d2c4-fb9f8440520b"
      },
      "outputs": [
        {
          "output_type": "execute_result",
          "data": {
            "text/plain": [
              "array([[1.        , 0.99522853, 0.98430616, 0.98067861, 0.61394061],\n",
              "       [0.99522853, 1.        , 0.99682792, 0.99508682, 0.53399299],\n",
              "       [0.98430616, 0.99682792, 1.        , 0.99980993, 0.46500915],\n",
              "       [0.98067861, 0.99508682, 0.99980993, 1.        , 0.44766075],\n",
              "       [0.61394061, 0.53399299, 0.46500915, 0.44766075, 1.        ]])"
            ]
          },
          "metadata": {},
          "execution_count": 43
        }
      ],
      "source": [
        "main_df = pd.DataFrame([{'id':100,'c1':2, 'c2':10}, {'id':200,'c1':10,'c2':100}, {'id':300,'c1':20,'c2':1000}, {'id':400,'c1':5,'c2':10000}, {'id':500,'c1':2000,'c2':1000}])\n",
        "\n",
        "feature_df = pd.DataFrame(main_df, columns=['c1', 'c2'])\n",
        "cosine_sim1 = cosine_similarity(feature_df)\n",
        "cosine_sim1"
      ]
    },
    {
      "cell_type": "code",
      "source": [
        "similarities_df = pd.DataFrame(cosine_sim1)\n",
        "similarities_df"
      ],
      "metadata": {
        "colab": {
          "base_uri": "https://localhost:8080/",
          "height": 206
        },
        "id": "2Z01R3kXK0Bl",
        "outputId": "30d9c99e-84ee-4ccc-8363-2623dfe63012"
      },
      "execution_count": 44,
      "outputs": [
        {
          "output_type": "execute_result",
          "data": {
            "text/html": [
              "\n",
              "  <div id=\"df-9a312bf0-f922-4702-b66a-491640b60aac\">\n",
              "    <div class=\"colab-df-container\">\n",
              "      <div>\n",
              "<style scoped>\n",
              "    .dataframe tbody tr th:only-of-type {\n",
              "        vertical-align: middle;\n",
              "    }\n",
              "\n",
              "    .dataframe tbody tr th {\n",
              "        vertical-align: top;\n",
              "    }\n",
              "\n",
              "    .dataframe thead th {\n",
              "        text-align: right;\n",
              "    }\n",
              "</style>\n",
              "<table border=\"1\" class=\"dataframe\">\n",
              "  <thead>\n",
              "    <tr style=\"text-align: right;\">\n",
              "      <th></th>\n",
              "      <th>0</th>\n",
              "      <th>1</th>\n",
              "      <th>2</th>\n",
              "      <th>3</th>\n",
              "      <th>4</th>\n",
              "    </tr>\n",
              "  </thead>\n",
              "  <tbody>\n",
              "    <tr>\n",
              "      <th>0</th>\n",
              "      <td>1.000000</td>\n",
              "      <td>0.995229</td>\n",
              "      <td>0.984306</td>\n",
              "      <td>0.980679</td>\n",
              "      <td>0.613941</td>\n",
              "    </tr>\n",
              "    <tr>\n",
              "      <th>1</th>\n",
              "      <td>0.995229</td>\n",
              "      <td>1.000000</td>\n",
              "      <td>0.996828</td>\n",
              "      <td>0.995087</td>\n",
              "      <td>0.533993</td>\n",
              "    </tr>\n",
              "    <tr>\n",
              "      <th>2</th>\n",
              "      <td>0.984306</td>\n",
              "      <td>0.996828</td>\n",
              "      <td>1.000000</td>\n",
              "      <td>0.999810</td>\n",
              "      <td>0.465009</td>\n",
              "    </tr>\n",
              "    <tr>\n",
              "      <th>3</th>\n",
              "      <td>0.980679</td>\n",
              "      <td>0.995087</td>\n",
              "      <td>0.999810</td>\n",
              "      <td>1.000000</td>\n",
              "      <td>0.447661</td>\n",
              "    </tr>\n",
              "    <tr>\n",
              "      <th>4</th>\n",
              "      <td>0.613941</td>\n",
              "      <td>0.533993</td>\n",
              "      <td>0.465009</td>\n",
              "      <td>0.447661</td>\n",
              "      <td>1.000000</td>\n",
              "    </tr>\n",
              "  </tbody>\n",
              "</table>\n",
              "</div>\n",
              "      <button class=\"colab-df-convert\" onclick=\"convertToInteractive('df-9a312bf0-f922-4702-b66a-491640b60aac')\"\n",
              "              title=\"Convert this dataframe to an interactive table.\"\n",
              "              style=\"display:none;\">\n",
              "        \n",
              "  <svg xmlns=\"http://www.w3.org/2000/svg\" height=\"24px\"viewBox=\"0 0 24 24\"\n",
              "       width=\"24px\">\n",
              "    <path d=\"M0 0h24v24H0V0z\" fill=\"none\"/>\n",
              "    <path d=\"M18.56 5.44l.94 2.06.94-2.06 2.06-.94-2.06-.94-.94-2.06-.94 2.06-2.06.94zm-11 1L8.5 8.5l.94-2.06 2.06-.94-2.06-.94L8.5 2.5l-.94 2.06-2.06.94zm10 10l.94 2.06.94-2.06 2.06-.94-2.06-.94-.94-2.06-.94 2.06-2.06.94z\"/><path d=\"M17.41 7.96l-1.37-1.37c-.4-.4-.92-.59-1.43-.59-.52 0-1.04.2-1.43.59L10.3 9.45l-7.72 7.72c-.78.78-.78 2.05 0 2.83L4 21.41c.39.39.9.59 1.41.59.51 0 1.02-.2 1.41-.59l7.78-7.78 2.81-2.81c.8-.78.8-2.07 0-2.86zM5.41 20L4 18.59l7.72-7.72 1.47 1.35L5.41 20z\"/>\n",
              "  </svg>\n",
              "      </button>\n",
              "      \n",
              "  <style>\n",
              "    .colab-df-container {\n",
              "      display:flex;\n",
              "      flex-wrap:wrap;\n",
              "      gap: 12px;\n",
              "    }\n",
              "\n",
              "    .colab-df-convert {\n",
              "      background-color: #E8F0FE;\n",
              "      border: none;\n",
              "      border-radius: 50%;\n",
              "      cursor: pointer;\n",
              "      display: none;\n",
              "      fill: #1967D2;\n",
              "      height: 32px;\n",
              "      padding: 0 0 0 0;\n",
              "      width: 32px;\n",
              "    }\n",
              "\n",
              "    .colab-df-convert:hover {\n",
              "      background-color: #E2EBFA;\n",
              "      box-shadow: 0px 1px 2px rgba(60, 64, 67, 0.3), 0px 1px 3px 1px rgba(60, 64, 67, 0.15);\n",
              "      fill: #174EA6;\n",
              "    }\n",
              "\n",
              "    [theme=dark] .colab-df-convert {\n",
              "      background-color: #3B4455;\n",
              "      fill: #D2E3FC;\n",
              "    }\n",
              "\n",
              "    [theme=dark] .colab-df-convert:hover {\n",
              "      background-color: #434B5C;\n",
              "      box-shadow: 0px 1px 3px 1px rgba(0, 0, 0, 0.15);\n",
              "      filter: drop-shadow(0px 1px 2px rgba(0, 0, 0, 0.3));\n",
              "      fill: #FFFFFF;\n",
              "    }\n",
              "  </style>\n",
              "\n",
              "      <script>\n",
              "        const buttonEl =\n",
              "          document.querySelector('#df-9a312bf0-f922-4702-b66a-491640b60aac button.colab-df-convert');\n",
              "        buttonEl.style.display =\n",
              "          google.colab.kernel.accessAllowed ? 'block' : 'none';\n",
              "\n",
              "        async function convertToInteractive(key) {\n",
              "          const element = document.querySelector('#df-9a312bf0-f922-4702-b66a-491640b60aac');\n",
              "          const dataTable =\n",
              "            await google.colab.kernel.invokeFunction('convertToInteractive',\n",
              "                                                     [key], {});\n",
              "          if (!dataTable) return;\n",
              "\n",
              "          const docLinkHtml = 'Like what you see? Visit the ' +\n",
              "            '<a target=\"_blank\" href=https://colab.research.google.com/notebooks/data_table.ipynb>data table notebook</a>'\n",
              "            + ' to learn more about interactive tables.';\n",
              "          element.innerHTML = '';\n",
              "          dataTable['output_type'] = 'display_data';\n",
              "          await google.colab.output.renderOutput(dataTable, element);\n",
              "          const docLink = document.createElement('div');\n",
              "          docLink.innerHTML = docLinkHtml;\n",
              "          element.appendChild(docLink);\n",
              "        }\n",
              "      </script>\n",
              "    </div>\n",
              "  </div>\n",
              "  "
            ],
            "text/plain": [
              "          0         1         2         3         4\n",
              "0  1.000000  0.995229  0.984306  0.980679  0.613941\n",
              "1  0.995229  1.000000  0.996828  0.995087  0.533993\n",
              "2  0.984306  0.996828  1.000000  0.999810  0.465009\n",
              "3  0.980679  0.995087  0.999810  1.000000  0.447661\n",
              "4  0.613941  0.533993  0.465009  0.447661  1.000000"
            ]
          },
          "metadata": {},
          "execution_count": 44
        }
      ]
    },
    {
      "cell_type": "code",
      "source": [
        "result = {}\n",
        "for index, row in main_df.iterrows():\n",
        "    print(index, row['c1'], row['c2'])\n",
        "    similar_values = list(enumerate(similarities_df.iloc[index]))\n",
        "    print(\"Cosine similarity values:\")\n",
        "    print(similar_values)\n",
        "    similar_values = sorted(similar_values, key=lambda x: x[1], reverse=True)\n",
        "    print(\"Sorted cosine similarity: \")\n",
        "    print(similar_values)\n",
        "\n",
        "    similar_ids = []\n",
        "    for loc, similarity in similar_values[1:]:\n",
        "      if similarity > 0:\n",
        "        similar_ids.append(main_df.iloc[loc]['id'])\n",
        "    print(\"Cosine similarity indexes: \")\n",
        "    print(similar_ids)\n",
        "    print(\"\")\n",
        "    result[str(row['id'])] = \",\".join(str(id) for id in similar_ids)\n",
        "\n",
        "\n",
        "print(\"\")\n",
        "print(\"=============\")\n",
        "print(\"\")\n",
        "print(result)"
      ],
      "metadata": {
        "colab": {
          "base_uri": "https://localhost:8080/"
        },
        "id": "b5H5_0s3K_Hj",
        "outputId": "7ff993ce-0100-4862-c465-070a3b930f6a"
      },
      "execution_count": 46,
      "outputs": [
        {
          "output_type": "stream",
          "name": "stdout",
          "text": [
            "0 2 10\n",
            "Cosine similarity values:\n",
            "[(0, 1.0000000000000002), (1, 0.99522852511998), (2, 0.9843061568445018), (3, 0.9806786111736706), (4, 0.6139406135149205)]\n",
            "Sorted cosine similarity: \n",
            "[(0, 1.0000000000000002), (1, 0.99522852511998), (2, 0.9843061568445018), (3, 0.9806786111736706), (4, 0.6139406135149205)]\n",
            "Cosine similarity indexes: \n",
            "[200, 300, 400, 500]\n",
            "\n",
            "1 10 100\n",
            "Cosine similarity values:\n",
            "[(0, 0.99522852511998), (1, 1.0), (2, 0.9968279189391933), (3, 0.9950868176836553), (4, 0.5339929913879817)]\n",
            "Sorted cosine similarity: \n",
            "[(1, 1.0), (2, 0.9968279189391933), (0, 0.99522852511998), (3, 0.9950868176836553), (4, 0.5339929913879817)]\n",
            "Cosine similarity indexes: \n",
            "[300, 100, 400, 500]\n",
            "\n",
            "2 20 1000\n",
            "Cosine similarity values:\n",
            "[(0, 0.9843061568445018), (1, 0.9968279189391933), (2, 1.0), (3, 0.999809933004373), (4, 0.4650091467889218)]\n",
            "Sorted cosine similarity: \n",
            "[(2, 1.0), (3, 0.999809933004373), (1, 0.9968279189391933), (0, 0.9843061568445018), (4, 0.4650091467889218)]\n",
            "Cosine similarity indexes: \n",
            "[400, 200, 100, 500]\n",
            "\n",
            "3 5 10000\n",
            "Cosine similarity values:\n",
            "[(0, 0.9806786111736706), (1, 0.9950868176836553), (2, 0.999809933004373), (3, 1.0000000000000002), (4, 0.4476607531378673)]\n",
            "Sorted cosine similarity: \n",
            "[(3, 1.0000000000000002), (2, 0.999809933004373), (1, 0.9950868176836553), (0, 0.9806786111736706), (4, 0.4476607531378673)]\n",
            "Cosine similarity indexes: \n",
            "[300, 200, 100, 500]\n",
            "\n",
            "4 2000 1000\n",
            "Cosine similarity values:\n",
            "[(0, 0.6139406135149205), (1, 0.5339929913879817), (2, 0.4650091467889218), (3, 0.4476607531378673), (4, 0.9999999999999999)]\n",
            "Sorted cosine similarity: \n",
            "[(4, 0.9999999999999999), (0, 0.6139406135149205), (1, 0.5339929913879817), (2, 0.4650091467889218), (3, 0.4476607531378673)]\n",
            "Cosine similarity indexes: \n",
            "[100, 200, 300, 400]\n",
            "\n",
            "\n",
            "=============\n",
            "\n",
            "{'100': '200,300,400,500', '200': '300,100,400,500', '300': '400,200,100,500', '400': '300,200,100,500', '500': '100,200,300,400'}\n"
          ]
        }
      ]
    }
  ]
}